{
  "nbformat": 4,
  "nbformat_minor": 0,
  "metadata": {
    "colab": {
      "name": "Pandas.ipynb",
      "provenance": [],
      "mount_file_id": "1Qx6ERNgndFzLtlDH_8_Fi3YI1_jw1s6f",
      "authorship_tag": "ABX9TyP5mVbrZzaH0nnx3C9/Pv7n",
      "include_colab_link": true
    },
    "kernelspec": {
      "name": "python3",
      "display_name": "Python 3"
    }
  },
  "cells": [
    {
      "cell_type": "markdown",
      "metadata": {
        "id": "view-in-github",
        "colab_type": "text"
      },
      "source": [
        "<a href=\"https://colab.research.google.com/github/Neha0709/PythonPractice/blob/master/Pandas.ipynb\" target=\"_parent\"><img src=\"https://colab.research.google.com/assets/colab-badge.svg\" alt=\"Open In Colab\"/></a>"
      ]
    },
    {
      "cell_type": "code",
      "metadata": {
        "id": "StELNw5G4fit",
        "colab_type": "code",
        "colab": {}
      },
      "source": [
        "import pandas as pd\n",
        "import matplotlib as mpl\n",
        "import matplotlib.pyplot as plt\n",
        "import seaborn as sns"
      ],
      "execution_count": 239,
      "outputs": []
    },
    {
      "cell_type": "code",
      "metadata": {
        "id": "IoFFpl0G47Xr",
        "colab_type": "code",
        "colab": {
          "base_uri": "https://localhost:8080/",
          "height": 402
        },
        "outputId": "5a84d55d-3a2c-403c-8274-cdba6b0a9620"
      },
      "source": [
        "game_data = '/content/drive/My Drive/Classroom/Machine Learning | AI @DSCVJIT A/Games_Data.csv - Games_Data.csv.csv'\n",
        "df = pd.read_csv(game_data)\n",
        "df"
      ],
      "execution_count": 240,
      "outputs": [
        {
          "output_type": "execute_result",
          "data": {
            "text/html": [
              "<div>\n",
              "<style scoped>\n",
              "    .dataframe tbody tr th:only-of-type {\n",
              "        vertical-align: middle;\n",
              "    }\n",
              "\n",
              "    .dataframe tbody tr th {\n",
              "        vertical-align: top;\n",
              "    }\n",
              "\n",
              "    .dataframe thead th {\n",
              "        text-align: right;\n",
              "    }\n",
              "</style>\n",
              "<table border=\"1\" class=\"dataframe\">\n",
              "  <thead>\n",
              "    <tr style=\"text-align: right;\">\n",
              "      <th></th>\n",
              "      <th>ID</th>\n",
              "      <th>CONSOLE</th>\n",
              "      <th>YEAR</th>\n",
              "      <th>CATEGORY</th>\n",
              "      <th>PUBLISHER</th>\n",
              "      <th>RATING</th>\n",
              "      <th>CRITICS_POINTS</th>\n",
              "      <th>USER_POINTS</th>\n",
              "      <th>SalesInMillions</th>\n",
              "    </tr>\n",
              "  </thead>\n",
              "  <tbody>\n",
              "    <tr>\n",
              "      <th>0</th>\n",
              "      <td>2860</td>\n",
              "      <td>ds</td>\n",
              "      <td>2008</td>\n",
              "      <td>role-playing</td>\n",
              "      <td>Nintendo</td>\n",
              "      <td>E</td>\n",
              "      <td>2.833333</td>\n",
              "      <td>0.303704</td>\n",
              "      <td>1.779257</td>\n",
              "    </tr>\n",
              "    <tr>\n",
              "      <th>1</th>\n",
              "      <td>731</td>\n",
              "      <td>wii</td>\n",
              "      <td>2012</td>\n",
              "      <td>simulation</td>\n",
              "      <td>Konami Digital Entertainment</td>\n",
              "      <td>E10+</td>\n",
              "      <td>13.200000</td>\n",
              "      <td>1.640000</td>\n",
              "      <td>0.215050</td>\n",
              "    </tr>\n",
              "    <tr>\n",
              "      <th>2</th>\n",
              "      <td>495</td>\n",
              "      <td>pc</td>\n",
              "      <td>2019</td>\n",
              "      <td>shooter</td>\n",
              "      <td>Activision</td>\n",
              "      <td>M</td>\n",
              "      <td>4.562500</td>\n",
              "      <td>0.006410</td>\n",
              "      <td>0.534402</td>\n",
              "    </tr>\n",
              "    <tr>\n",
              "      <th>3</th>\n",
              "      <td>2641</td>\n",
              "      <td>ps2</td>\n",
              "      <td>2002</td>\n",
              "      <td>sports</td>\n",
              "      <td>Electronic Arts</td>\n",
              "      <td>E</td>\n",
              "      <td>4.181818</td>\n",
              "      <td>0.326923</td>\n",
              "      <td>1.383964</td>\n",
              "    </tr>\n",
              "    <tr>\n",
              "      <th>4</th>\n",
              "      <td>811</td>\n",
              "      <td>ps3</td>\n",
              "      <td>2013</td>\n",
              "      <td>action</td>\n",
              "      <td>Activision</td>\n",
              "      <td>M</td>\n",
              "      <td>2.259259</td>\n",
              "      <td>0.032579</td>\n",
              "      <td>0.082671</td>\n",
              "    </tr>\n",
              "    <tr>\n",
              "      <th>...</th>\n",
              "      <td>...</td>\n",
              "      <td>...</td>\n",
              "      <td>...</td>\n",
              "      <td>...</td>\n",
              "      <td>...</td>\n",
              "      <td>...</td>\n",
              "      <td>...</td>\n",
              "      <td>...</td>\n",
              "      <td>...</td>\n",
              "    </tr>\n",
              "    <tr>\n",
              "      <th>3501</th>\n",
              "      <td>1323</td>\n",
              "      <td>ds</td>\n",
              "      <td>2007</td>\n",
              "      <td>role-playing</td>\n",
              "      <td>Square Enix</td>\n",
              "      <td>E10+</td>\n",
              "      <td>1.702128</td>\n",
              "      <td>0.065421</td>\n",
              "      <td>3.584264</td>\n",
              "    </tr>\n",
              "    <tr>\n",
              "      <th>3502</th>\n",
              "      <td>2862</td>\n",
              "      <td>3ds</td>\n",
              "      <td>2018</td>\n",
              "      <td>action</td>\n",
              "      <td>Nintendo</td>\n",
              "      <td>E10+</td>\n",
              "      <td>3.625000</td>\n",
              "      <td>0.090000</td>\n",
              "      <td>2.701472</td>\n",
              "    </tr>\n",
              "    <tr>\n",
              "      <th>3503</th>\n",
              "      <td>1980</td>\n",
              "      <td>ps3</td>\n",
              "      <td>2012</td>\n",
              "      <td>action</td>\n",
              "      <td>Warner Bros. Interactive Entertainment</td>\n",
              "      <td>E10+</td>\n",
              "      <td>2.814815</td>\n",
              "      <td>0.172917</td>\n",
              "      <td>1.631668</td>\n",
              "    </tr>\n",
              "    <tr>\n",
              "      <th>3504</th>\n",
              "      <td>3065</td>\n",
              "      <td>3ds</td>\n",
              "      <td>2016</td>\n",
              "      <td>simulation</td>\n",
              "      <td>Marvelous Entertainment</td>\n",
              "      <td>E10+</td>\n",
              "      <td>2.571429</td>\n",
              "      <td>0.464286</td>\n",
              "      <td>2.899156</td>\n",
              "    </tr>\n",
              "    <tr>\n",
              "      <th>3505</th>\n",
              "      <td>3722</td>\n",
              "      <td>gc</td>\n",
              "      <td>2005</td>\n",
              "      <td>platform</td>\n",
              "      <td>Thq</td>\n",
              "      <td>E</td>\n",
              "      <td>4.411765</td>\n",
              "      <td>2.325000</td>\n",
              "      <td>1.221262</td>\n",
              "    </tr>\n",
              "  </tbody>\n",
              "</table>\n",
              "<p>3506 rows × 9 columns</p>\n",
              "</div>"
            ],
            "text/plain": [
              "        ID CONSOLE  YEAR  ... CRITICS_POINTS USER_POINTS SalesInMillions\n",
              "0     2860      ds  2008  ...       2.833333    0.303704        1.779257\n",
              "1      731     wii  2012  ...      13.200000    1.640000        0.215050\n",
              "2      495      pc  2019  ...       4.562500    0.006410        0.534402\n",
              "3     2641     ps2  2002  ...       4.181818    0.326923        1.383964\n",
              "4      811     ps3  2013  ...       2.259259    0.032579        0.082671\n",
              "...    ...     ...   ...  ...            ...         ...             ...\n",
              "3501  1323      ds  2007  ...       1.702128    0.065421        3.584264\n",
              "3502  2862     3ds  2018  ...       3.625000    0.090000        2.701472\n",
              "3503  1980     ps3  2012  ...       2.814815    0.172917        1.631668\n",
              "3504  3065     3ds  2016  ...       2.571429    0.464286        2.899156\n",
              "3505  3722      gc  2005  ...       4.411765    2.325000        1.221262\n",
              "\n",
              "[3506 rows x 9 columns]"
            ]
          },
          "metadata": {
            "tags": []
          },
          "execution_count": 240
        }
      ]
    },
    {
      "cell_type": "markdown",
      "metadata": {
        "id": "hXPogPHNs6qK",
        "colab_type": "text"
      },
      "source": [
        "#Mean sales of ps2 games in 2018"
      ]
    },
    {
      "cell_type": "code",
      "metadata": {
        "id": "08pUL91H5L5c",
        "colab_type": "code",
        "colab": {
          "base_uri": "https://localhost:8080/",
          "height": 34
        },
        "outputId": "9fd6dd05-6127-470e-de2d-1537f6d367c1"
      },
      "source": [
        "#Question 1\n",
        "df1= df[(df['YEAR']==2018)&(df['CONSOLE']=='ps2')] #mean sales = 0\n",
        "m = df1['SalesInMillions'].mean()\n",
        "print('The mean sales of ps2 in the year 2018 = '+str(m)) #0"
      ],
      "execution_count": 241,
      "outputs": [
        {
          "output_type": "stream",
          "text": [
            "The mean sales of ps2 in the year 2018 = nan\n"
          ],
          "name": "stdout"
        }
      ]
    },
    {
      "cell_type": "markdown",
      "metadata": {
        "id": "H9t3CDGstAoU",
        "colab_type": "text"
      },
      "source": [
        "#No. of PC games made by Electronic Arts Publisher b/w 2010-2015"
      ]
    },
    {
      "cell_type": "code",
      "metadata": {
        "id": "vxMkJayk9T3R",
        "colab_type": "code",
        "colab": {
          "base_uri": "https://localhost:8080/",
          "height": 34
        },
        "outputId": "5f27a618-bff5-4058-b2a2-d72b13c8b277"
      },
      "source": [
        "#Question 2\n",
        "df2= df[(df['PUBLISHER']=='Electronic Arts') & (df['YEAR']>=2010) & (df['YEAR']<=2015)& (df['CONSOLE']=='pc')]\n",
        "n = df2.shape[0]\n",
        "print('Number of PC games between 2010 - 2015 ='+str(n))"
      ],
      "execution_count": 242,
      "outputs": [
        {
          "output_type": "stream",
          "text": [
            "Number of PC games between 2010 - 2015 =19\n"
          ],
          "name": "stdout"
        }
      ]
    },
    {
      "cell_type": "markdown",
      "metadata": {
        "id": "pcyg2cJTtL0k",
        "colab_type": "text"
      },
      "source": [
        "#Average Critics points of Nintendo Publisher in role-playing Category"
      ]
    },
    {
      "cell_type": "code",
      "metadata": {
        "id": "neWhsR0v_RzA",
        "colab_type": "code",
        "colab": {
          "base_uri": "https://localhost:8080/",
          "height": 34
        },
        "outputId": "d3c26dca-13a5-48e2-e69a-671021340d43"
      },
      "source": [
        "#Question 3\n",
        "df3= df[(df['CATEGORY']=='role-playing')&(df['PUBLISHER']=='Nintendo')]\n",
        "avg = df3['CRITICS_POINTS'].mean()\n",
        "print('Average Critics points = '+str(avg))\n"
      ],
      "execution_count": 243,
      "outputs": [
        {
          "output_type": "stream",
          "text": [
            "Average Critics points = 1.8878457649483869\n"
          ],
          "name": "stdout"
        }
      ]
    },
    {
      "cell_type": "markdown",
      "metadata": {
        "id": "2AL1ucBlteS7",
        "colab_type": "text"
      },
      "source": [
        "#Overall sales of the X360 from 2010 – 2019"
      ]
    },
    {
      "cell_type": "code",
      "metadata": {
        "id": "BSMGtdNhDOZE",
        "colab_type": "code",
        "colab": {
          "base_uri": "https://localhost:8080/",
          "height": 34
        },
        "outputId": "7e35fc64-e90e-4be2-a518-fe7a223ce83b"
      },
      "source": [
        "#Question 4\n",
        "df4= df[(df['CONSOLE']=='x360') & (df['YEAR']>=2010) & (df['YEAR']<=2019)]\n",
        "s = df4['SalesInMillions'].sum()\n",
        "print('Overall Sales in millions = '+str(s))\n"
      ],
      "execution_count": 244,
      "outputs": [
        {
          "output_type": "stream",
          "text": [
            "Overall Sales in millions = 791.21135898255\n"
          ],
          "name": "stdout"
        }
      ]
    },
    {
      "cell_type": "markdown",
      "metadata": {
        "id": "oj3Yz0citjq3",
        "colab_type": "text"
      },
      "source": [
        "#Publisher with Highest Mean Sales of all of games in the Year 2017"
      ]
    },
    {
      "cell_type": "code",
      "metadata": {
        "id": "3Qz72DaHEmvG",
        "colab_type": "code",
        "colab": {
          "base_uri": "https://localhost:8080/",
          "height": 34
        },
        "outputId": "cc4d51a1-6b4d-4760-ca27-71c06e2b9c63"
      },
      "source": [
        "#Question 5\n",
        "sales = []\n",
        "df5 = df[df['YEAR']==2017]\n",
        "pub_arr = df5['PUBLISHER'].unique()\n",
        "for i in range(len(pub_arr)):\n",
        "  temp_df = df5[df5['PUBLISHER']==pub_arr[i]]\n",
        "  sales.append(temp_df['SalesInMillions'].mean())\n",
        "max_sales = sales.index(max(sales))\n",
        "print('Publisher with highest mean sales in the year 2017 is '+str(pub_arr[max_sales]))\n"
      ],
      "execution_count": 245,
      "outputs": [
        {
          "output_type": "stream",
          "text": [
            "Publisher with highest mean sales in the year 2017 is Bethesda Softworks\n"
          ],
          "name": "stdout"
        }
      ]
    },
    {
      "cell_type": "markdown",
      "metadata": {
        "id": "QDdsYSQVttEW",
        "colab_type": "text"
      },
      "source": [
        "#Most Common RATING for Ubisoft Publisher"
      ]
    },
    {
      "cell_type": "code",
      "metadata": {
        "id": "kGZ1cZGdICiI",
        "colab_type": "code",
        "colab": {
          "base_uri": "https://localhost:8080/",
          "height": 34
        },
        "outputId": "e24d8280-3ea5-4f8e-fa26-dcc5b7d98226"
      },
      "source": [
        "#Question 6\n",
        "rating = []\n",
        "df6 = df[df['PUBLISHER']=='Ubisoft']\n",
        "r_arr = df6['RATING'].unique()\n",
        "for i in range (len(r_arr)):\n",
        "  temp_df = df6[df6['RATING']==r_arr[i]]\n",
        "  c = temp_df['RATING'].count()\n",
        "  rating.append(c)\n",
        "#print(r_arr)\n",
        "com_rating = rating.index(max(rating))\n",
        "print('Most common rating for Ubisoft Publisher is : '+str(r_arr[com_rating]))\n"
      ],
      "execution_count": 246,
      "outputs": [
        {
          "output_type": "stream",
          "text": [
            "Most common rating for Ubisoft Publisher is : M\n"
          ],
          "name": "stdout"
        }
      ]
    },
    {
      "cell_type": "markdown",
      "metadata": {
        "id": "wBU8247dtyN6",
        "colab_type": "text"
      },
      "source": [
        "#Histogram graph of Sales"
      ]
    },
    {
      "cell_type": "markdown",
      "metadata": {
        "id": "oI-BSVi8t2_H",
        "colab_type": "text"
      },
      "source": [
        "Using matplotlib"
      ]
    },
    {
      "cell_type": "code",
      "metadata": {
        "id": "ERktN_wee4-i",
        "colab_type": "code",
        "colab": {
          "base_uri": "https://localhost:8080/",
          "height": 296
        },
        "outputId": "fbd88043-2b1b-4af6-a1de-893f1172dd5b"
      },
      "source": [
        "#Question 7\n",
        "p = df['SalesInMillions']\n",
        "plt.hist(p,bins=50)\n",
        "plt.xlabel('SalesInMillions')"
      ],
      "execution_count": 247,
      "outputs": [
        {
          "output_type": "execute_result",
          "data": {
            "text/plain": [
              "Text(0.5, 0, 'SalesInMillions')"
            ]
          },
          "metadata": {
            "tags": []
          },
          "execution_count": 247
        },
        {
          "output_type": "display_data",
          "data": {
            "image/png": "[encoded data removed]",
            "text/plain": [
              "<Figure size 432x288 with 1 Axes>"
            ]
          },
          "metadata": {
            "tags": [],
            "needs_background": "light"
          }
        }
      ]
    },
    {
      "cell_type": "markdown",
      "metadata": {
        "id": "pKqtplget7Jz",
        "colab_type": "text"
      },
      "source": [
        "Using Seaborn"
      ]
    },
    {
      "cell_type": "code",
      "metadata": {
        "id": "LIdDCrd0iO5R",
        "colab_type": "code",
        "colab": {
          "base_uri": "https://localhost:8080/",
          "height": 296
        },
        "outputId": "10ef6156-b32b-45a1-bab7-70b6c0bd923d"
      },
      "source": [
        "sns.distplot(df['SalesInMillions'],kde=False)"
      ],
      "execution_count": 248,
      "outputs": [
        {
          "output_type": "execute_result",
          "data": {
            "text/plain": [
              "<matplotlib.axes._subplots.AxesSubplot at 0x7f5fc18b7eb8>"
            ]
          },
          "metadata": {
            "tags": []
          },
          "execution_count": 248
        },
        {
          "output_type": "display_data",
          "data": {
            "image/png": "[encoded data removed]",
            "text/plain": [
              "<Figure size 432x288 with 1 Axes>"
            ]
          },
          "metadata": {
            "tags": [],
            "needs_background": "light"
          }
        }
      ]
    },
    {
      "cell_type": "markdown",
      "metadata": {
        "id": "ComyTbzht98G",
        "colab_type": "text"
      },
      "source": [
        "# Histogram graph of Critic Points"
      ]
    },
    {
      "cell_type": "markdown",
      "metadata": {
        "id": "7hzd7NCsuDJt",
        "colab_type": "text"
      },
      "source": [
        "Using matplotlib"
      ]
    },
    {
      "cell_type": "code",
      "metadata": {
        "id": "rf7qlkRCi49o",
        "colab_type": "code",
        "colab": {
          "base_uri": "https://localhost:8080/",
          "height": 297
        },
        "outputId": "53b9d261-b890-4a7a-83c7-1a8eb806dbaf"
      },
      "source": [
        "#Question 8\n",
        "cp = df['CRITICS_POINTS']\n",
        "plt.hist(cp,bins=50)\n",
        "plt.xlabel('CRITICS_POINTS')"
      ],
      "execution_count": 249,
      "outputs": [
        {
          "output_type": "execute_result",
          "data": {
            "text/plain": [
              "Text(0.5, 0, 'CRITICS_POINTS')"
            ]
          },
          "metadata": {
            "tags": []
          },
          "execution_count": 249
        },
        {
          "output_type": "display_data",
          "data": {
            "image/png": "[encoded data removed]",
            "text/plain": [
              "<Figure size 432x288 with 1 Axes>"
            ]
          },
          "metadata": {
            "tags": [],
            "needs_background": "light"
          }
        }
      ]
    },
    {
      "cell_type": "markdown",
      "metadata": {
        "id": "k1bYXR-WuGhL",
        "colab_type": "text"
      },
      "source": [
        "Using  Seaborn"
      ]
    },
    {
      "cell_type": "code",
      "metadata": {
        "id": "TjpwhQYSkxAl",
        "colab_type": "code",
        "colab": {
          "base_uri": "https://localhost:8080/",
          "height": 297
        },
        "outputId": "260d20df-2ea8-4594-f440-bea56bd10509"
      },
      "source": [
        "sns.distplot(df['CRITICS_POINTS'],kde=False)"
      ],
      "execution_count": 250,
      "outputs": [
        {
          "output_type": "execute_result",
          "data": {
            "text/plain": [
              "<matplotlib.axes._subplots.AxesSubplot at 0x7f5fc16664e0>"
            ]
          },
          "metadata": {
            "tags": []
          },
          "execution_count": 250
        },
        {
          "output_type": "display_data",
          "data": {
            "image/png": "[encoded data removed]",
            "text/plain": [
              "<Figure size 432x288 with 1 Axes>"
            ]
          },
          "metadata": {
            "tags": [],
            "needs_background": "light"
          }
        }
      ]
    },
    {
      "cell_type": "markdown",
      "metadata": {
        "id": "Q4zSaVkIuKjV",
        "colab_type": "text"
      },
      "source": [
        "# Bar Graph of Categories"
      ]
    },
    {
      "cell_type": "code",
      "metadata": {
        "id": "EhKZTNf8lDZq",
        "colab_type": "code",
        "colab": {
          "base_uri": "https://localhost:8080/",
          "height": 332
        },
        "outputId": "6137291e-f4d4-498b-db16-30dceb480174"
      },
      "source": [
        "#Question 9\n",
        "df['CATEGORY'].value_counts().plot(kind='bar')"
      ],
      "execution_count": 251,
      "outputs": [
        {
          "output_type": "execute_result",
          "data": {
            "text/plain": [
              "<matplotlib.axes._subplots.AxesSubplot at 0x7f5fc15614e0>"
            ]
          },
          "metadata": {
            "tags": []
          },
          "execution_count": 251
        },
        {
          "output_type": "display_data",
          "data": {
            "image/png": "[encoded data removed]",
            "text/plain": [
              "<Figure size 432x288 with 1 Axes>"
            ]
          },
          "metadata": {
            "tags": [],
            "needs_background": "light"
          }
        }
      ]
    },
    {
      "cell_type": "markdown",
      "metadata": {
        "id": "xzlvteWmuN2e",
        "colab_type": "text"
      },
      "source": [
        "#Bar graph of Sega Publishers"
      ]
    },
    {
      "cell_type": "code",
      "metadata": {
        "id": "GY4E6pYFmav5",
        "colab_type": "code",
        "colab": {
          "base_uri": "https://localhost:8080/",
          "height": 332
        },
        "outputId": "5141de13-a1bd-439c-a4fd-974c292c0b0c"
      },
      "source": [
        "#Question 10\n",
        "df10 = df[df['PUBLISHER']=='Sega']\n",
        "df10['CATEGORY'].value_counts().plot(kind='bar')"
      ],
      "execution_count": 252,
      "outputs": [
        {
          "output_type": "execute_result",
          "data": {
            "text/plain": [
              "<matplotlib.axes._subplots.AxesSubplot at 0x7f5fc1471da0>"
            ]
          },
          "metadata": {
            "tags": []
          },
          "execution_count": 252
        },
        {
          "output_type": "display_data",
          "data": {
            "image/png": "[encoded data removed]",
            "text/plain": [
              "<Figure size 432x288 with 1 Axes>"
            ]
          },
          "metadata": {
            "tags": [],
            "needs_background": "light"
          }
        }
      ]
    },
    {
      "cell_type": "markdown",
      "metadata": {
        "id": "bt9Kk4h2uSOO",
        "colab_type": "text"
      },
      "source": [
        "#Plot of avg sales vs rating"
      ]
    },
    {
      "cell_type": "code",
      "metadata": {
        "id": "7foI8KEYm4Bs",
        "colab_type": "code",
        "colab": {
          "base_uri": "https://localhost:8080/",
          "height": 296
        },
        "outputId": "59432110-659e-4ddc-b174-0b58a041febf"
      },
      "source": [
        "#Question 11\n",
        "avg_sales = []\n",
        "for i in range (len(r_arr)):\n",
        "  temp_df = df[df['RATING']==r_arr[i]]\n",
        "  avg_sales.append(temp_df['SalesInMillions'].mean())\n",
        "plt.bar(r_arr,avg_sales)\n",
        "plt.xlabel('Rating')\n",
        "plt.ylabel('Avg sales in millions')"
      ],
      "execution_count": 253,
      "outputs": [
        {
          "output_type": "execute_result",
          "data": {
            "text/plain": [
              "Text(0, 0.5, 'Avg sales in millions')"
            ]
          },
          "metadata": {
            "tags": []
          },
          "execution_count": 253
        },
        {
          "output_type": "display_data",
          "data": {
            "image/png": "[encoded data removed]",
            "text/plain": [
              "<Figure size 432x288 with 1 Axes>"
            ]
          },
          "metadata": {
            "tags": [],
            "needs_background": "light"
          }
        }
      ]
    },
    {
      "cell_type": "markdown",
      "metadata": {
        "id": "0mza-lxZuXDf",
        "colab_type": "text"
      },
      "source": [
        "#Year with most sales overall"
      ]
    },
    {
      "cell_type": "code",
      "metadata": {
        "id": "Z3Dx5h8ln_NC",
        "colab_type": "code",
        "colab": {
          "base_uri": "https://localhost:8080/",
          "height": 313
        },
        "outputId": "b0a81cd0-2794-45bb-dd56-80039b6ae57e"
      },
      "source": [
        "#Question 12\n",
        "os = []\n",
        "yr_arr = df['YEAR'].unique()\n",
        "for i in range (len(yr_arr)):\n",
        "  temp_df = df[df['YEAR']==yr_arr[i]]\n",
        "  os.append(temp_df['SalesInMillions'].sum())\n",
        "yr_max = os.index(max(os))\n",
        "print('Year with maximum overall sales is '+str(yr_arr[yr_max]))\n",
        "plt.bar(yr_arr,os)\n",
        "plt.xlabel('Year')\n",
        "plt.ylabel('Overall sales in millions')"
      ],
      "execution_count": 254,
      "outputs": [
        {
          "output_type": "stream",
          "text": [
            "Year with maximum overall sales is 2010\n"
          ],
          "name": "stdout"
        },
        {
          "output_type": "execute_result",
          "data": {
            "text/plain": [
              "Text(0, 0.5, 'Overall sales in millions')"
            ]
          },
          "metadata": {
            "tags": []
          },
          "execution_count": 254
        },
        {
          "output_type": "display_data",
          "data": {
            "image/png": "[encoded data removed]",
            "text/plain": [
              "<Figure size 432x288 with 1 Axes>"
            ]
          },
          "metadata": {
            "tags": [],
            "needs_background": "light"
          }
        }
      ]
    },
    {
      "cell_type": "code",
      "metadata": {
        "id": "-6oJSmmar-Fe",
        "colab_type": "code",
        "colab": {}
      },
      "source": [
        ""
      ],
      "execution_count": null,
      "outputs": []
    }
  ]
}